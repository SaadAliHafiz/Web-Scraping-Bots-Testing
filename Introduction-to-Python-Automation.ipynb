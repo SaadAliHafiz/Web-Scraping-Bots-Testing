{
 "cells": [
  {
   "cell_type": "code",
   "execution_count": 10,
   "id": "653b116b-ba34-4953-86c9-707c2511e3ee",
   "metadata": {},
   "outputs": [],
   "source": [
    "from selenium import webdriver"
   ]
  },
  {
   "cell_type": "code",
   "execution_count": 11,
   "id": "b6cc2629-7980-4c94-8bc0-7bd390bc5468",
   "metadata": {},
   "outputs": [],
   "source": [
    "PATH=\"C:\\Program Files (x86)\\chromedriver.exe\""
   ]
  },
  {
   "cell_type": "code",
   "execution_count": 12,
   "id": "19a01bf6-2b02-4fb6-aced-0ec9e45c9b17",
   "metadata": {},
   "outputs": [
    {
     "name": "stderr",
     "output_type": "stream",
     "text": [
      "<ipython-input-12-39becb130489>:1: DeprecationWarning: executable_path has been deprecated, please pass in a Service object\n",
      "  driver=webdriver.Chrome(PATH)\n"
     ]
    }
   ],
   "source": [
    "driver=webdriver.Chrome(PATH)"
   ]
  },
  {
   "cell_type": "code",
   "execution_count": null,
   "id": "cf6c6f8b-b996-49d5-9c44-20d7508e9dd7",
   "metadata": {},
   "outputs": [],
   "source": []
  },
  {
   "cell_type": "code",
   "execution_count": 13,
   "id": "23875fcf-b11e-4a8e-9744-e8604812e54b",
   "metadata": {},
   "outputs": [],
   "source": [
    "driver.get(\"https://youtube.com\")"
   ]
  },
  {
   "cell_type": "code",
   "execution_count": 14,
   "id": "2ae5a59d-ecff-4057-8a73-e0d9c27eeea3",
   "metadata": {},
   "outputs": [
    {
     "data": {
      "text/plain": [
       "'YouTube'"
      ]
     },
     "execution_count": 14,
     "metadata": {},
     "output_type": "execute_result"
    }
   ],
   "source": [
    "driver.title"
   ]
  },
  {
   "cell_type": "code",
   "execution_count": 15,
   "id": "347fb22e-1bc3-442b-91bf-621704ed4b8c",
   "metadata": {},
   "outputs": [],
   "source": [
    "driver.close()"
   ]
  },
  {
   "cell_type": "code",
   "execution_count": null,
   "id": "0ecb3852-4ba5-49d7-a7cb-33ddf47890bb",
   "metadata": {},
   "outputs": [],
   "source": []
  }
 ],
 "metadata": {
  "kernelspec": {
   "display_name": "Python 3",
   "language": "python",
   "name": "python3"
  },
  "language_info": {
   "codemirror_mode": {
    "name": "ipython",
    "version": 3
   },
   "file_extension": ".py",
   "mimetype": "text/x-python",
   "name": "python",
   "nbconvert_exporter": "python",
   "pygments_lexer": "ipython3",
   "version": "3.9.1"
  }
 },
 "nbformat": 4,
 "nbformat_minor": 5
}
