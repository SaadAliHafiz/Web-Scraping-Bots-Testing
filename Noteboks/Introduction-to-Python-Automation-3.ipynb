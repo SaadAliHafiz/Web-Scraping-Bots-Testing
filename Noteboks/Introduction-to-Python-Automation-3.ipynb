{
 "cells": [
  {
   "cell_type": "code",
   "execution_count": 3,
   "id": "653b116b-ba34-4953-86c9-707c2511e3ee",
   "metadata": {},
   "outputs": [],
   "source": [
    "from selenium import webdriver\n",
    "from selenium.webdriver.common.keys import Keys\n",
    "from selenium.webdriver.common.by import By\n",
    "from selenium.webdriver.support.ui import WebDriverWait\n",
    "from selenium.webdriver.support import expected_conditions as EC\n",
    "import time"
   ]
  },
  {
   "cell_type": "code",
   "execution_count": 2,
   "id": "b6cc2629-7980-4c94-8bc0-7bd390bc5468",
   "metadata": {},
   "outputs": [],
   "source": [
    "# PATH=\"C:\\Program Files (x86)\\chromedriver.exe\"\n",
    "# driver=webdriver.Chrome(PATH)\n",
    "# driver.get(\"https://youtube.com\")\n",
    "# search= driver.find_element_by_name(\"search_query\")\n",
    "# search.send_keys(\"test\")\n",
    "# search.send_keys(Keys.RETURN)\n",
    "# print(driver.page_source)\n",
    "# time.sleep(5)\n",
    "# driver.close()"
   ]
  },
  {
   "cell_type": "code",
   "execution_count": 6,
   "id": "858e771d-5b54-4ff7-ac85-0d8a8c323c51",
   "metadata": {},
   "outputs": [
    {
     "name": "stderr",
     "output_type": "stream",
     "text": [
      "<ipython-input-6-307bd2111348>:2: DeprecationWarning: executable_path has been deprecated, please pass in a Service object\n",
      "  driver=webdriver.Chrome(PATH)\n"
     ]
    },
    {
     "name": "stdout",
     "output_type": "stream",
     "text": [
      "0\n",
      "votes\n",
      "0\n",
      "answers\n",
      "6\n",
      "views\n",
      "python : my try except doesnt catch my keyboardinterrupt\n",
      "I have this call in python that excecutes a sh script. subprocess.check_call(f'./compose/auto_deploy_do_{name}.sh', stdout=sys.stdout, stderr=subprocess.STDOUT) This sh script launches rsync and when ...\n",
      "python\n",
      "except\n",
      "kr1pkr1p\n",
      "15\n",
      "asked 52 secs ago\n",
      "python : my try except doesnt catch my keyboardinterrupt\n",
      "0\n",
      "votes\n",
      "0\n",
      "answers\n",
      "6\n",
      "views\n",
      "hey\n"
     ]
    },
    {
     "name": "stderr",
     "output_type": "stream",
     "text": [
      "C:\\Users\\Saad\\AppData\\Local\\Programs\\Python\\Python39\\lib\\site-packages\\selenium\\webdriver\\remote\\webelement.py:359: UserWarning: find_elements_by_* commands are deprecated. Please use find_elements() instead\n",
      "  warnings.warn(\"find_elements_by_* commands are deprecated. Please use find_elements() instead\")\n",
      "C:\\Users\\Saad\\AppData\\Local\\Programs\\Python\\Python39\\lib\\site-packages\\selenium\\webdriver\\remote\\webelement.py:446: UserWarning: find_element_by_* commands are deprecated. Please use find_element() instead\n",
      "  warnings.warn(\"find_element_by_* commands are deprecated. Please use find_element() instead\")\n"
     ]
    }
   ],
   "source": [
    "PATH=\"C:\\Program Files (x86)\\chromedriver.exe\"\n",
    "driver=webdriver.Chrome(PATH)\n",
    "driver.get(\"https://stackoverflow.com/\")\n",
    "try:\n",
    "    search= WebDriverWait(driver, 10).until(EC.presence_of_element_located((By.NAME, \"q\")))\n",
    "    search.clear() #it clears the keys which was already in text fields and u don't wanna append ur new one's\n",
    "    search.send_keys(\"python\")\n",
    "    search.send_keys(Keys.RETURN)\n",
    "    questions = driver.find_element(By.ID, 'questions')\n",
    "#     print(questions.text)\n",
    "    ques=questions.find_elements_by_tag_name(\"div\")\n",
    "    for que in ques:\n",
    "        print(que.text)\n",
    "        header=que.find_element_by_class_name(\"s-post-summary--content-title\")\n",
    "        print(header.text)\n",
    "except:\n",
    "#     driver.quit()\n",
    "    print(\"hey\")"
   ]
  },
  {
   "cell_type": "code",
   "execution_count": 4,
   "id": "2ae5a59d-ecff-4057-8a73-e0d9c27eeea3",
   "metadata": {},
   "outputs": [],
   "source": [
    "# driver.title"
   ]
  },
  {
   "cell_type": "code",
   "execution_count": 5,
   "id": "347fb22e-1bc3-442b-91bf-621704ed4b8c",
   "metadata": {},
   "outputs": [],
   "source": [
    "# driver.close()"
   ]
  },
  {
   "cell_type": "markdown",
   "id": "dd645251-494f-45a7-a3a6-fda071759b8d",
   "metadata": {},
   "source": [
    "#### So, Inorder to access the data/elements we require tags,name,id,class but mostly we need id, name and class.\n",
    "#### So the hierarchy of selecting among these three will be\n",
    "#### 1. Id(as its unique in HTML pages)\n",
    "#### 2. Name(as it is mostly unique in many web pages)\n",
    "#### 3. Class(as it is used in worst case scenario"
   ]
  },
  {
   "cell_type": "markdown",
   "id": "da5796a6-ca1e-4588-a1f3-c5c3a6bd4a9a",
   "metadata": {},
   "source": [
    "## Page Navigation & Clicking Elements"
   ]
  },
  {
   "cell_type": "code",
   "execution_count": 31,
   "id": "de743022-d62e-4b18-bdc1-bb29ef0a4043",
   "metadata": {},
   "outputs": [
    {
     "name": "stderr",
     "output_type": "stream",
     "text": [
      "<ipython-input-31-ad767e75442b>:2: DeprecationWarning: executable_path has been deprecated, please pass in a Service object\n",
      "  driver=webdriver.Chrome(PATH)\n"
     ]
    }
   ],
   "source": [
    "PATH=\"C:\\Program Files (x86)\\chromedriver.exe\"\n",
    "driver=webdriver.Chrome(PATH)\n",
    "driver.get(\"https://copyassignment.com/\")\n",
    "# link = driver.find_element(By.LINK_TEXT, 'MNIST Handwritten Digit Classification using Deep Learning')\n",
    "# time.sleep(10)\n",
    "# link.click()\n",
    "try:\n",
    "    link = WebDriverWait(driver, 10).until(\n",
    "    EC.presence_of_element_located((By.LINK_TEXT, \"MNIST Handwritten Digit Classification using Deep Learning\")))\n",
    "    link.click()\n",
    "    link = WebDriverWait(driver, 10).until(\n",
    "    EC.presence_of_element_located((By.LINK_TEXT, \"https://storage.googleapis.com/tensorflow/tf-keras-datasets/mnist.npz\")))\n",
    "    link.click()\n",
    "    driver.back()\n",
    "    driver.back()\n",
    "    driver.forward()\n",
    "    driver.forward()\n",
    "except:\n",
    "    print(\"hey\")\n",
    "    \n",
    "    "
   ]
  },
  {
   "cell_type": "markdown",
   "id": "7b3b285b-fd63-4cab-b471-a8630fd5a69c",
   "metadata": {},
   "source": [
    "## ActionChains & Automating CPS Website!"
   ]
  },
  {
   "cell_type": "code",
   "execution_count": 7,
   "id": "70981d97-2bd8-4ca1-9abb-149161e03dc1",
   "metadata": {},
   "outputs": [],
   "source": [
    "from selenium.webdriver.common.action_chains import ActionChains"
   ]
  },
  {
   "cell_type": "code",
   "execution_count": 133,
   "id": "f32ac9be-4717-4ce2-94db-0a33d77ec42c",
   "metadata": {},
   "outputs": [
    {
     "name": "stderr",
     "output_type": "stream",
     "text": [
      "<ipython-input-133-ed662c1c0c4b>:2: DeprecationWarning: executable_path has been deprecated, please pass in a Service object\n",
      "  driver=webdriver.Chrome(PATH)\n"
     ]
    }
   ],
   "source": [
    "PATH=\"C:\\Program Files (x86)\\chromedriver.exe\"\n",
    "driver=webdriver.Chrome(PATH)\n",
    "driver.get(\"https://cpstest.org/\")\n",
    "myLinkManual= WebDriverWait(driver,1).until(\n",
    "    EC.presence_of_element_located((By.ID, \"myLinkManual\")))\n",
    "clicker = WebDriverWait(driver,1).until(\n",
    "    EC.presence_of_element_located((By.XPATH, \"//*[@id='start']\")))\n",
    "# bttnstp= WebDriverWait(driver,20).until(\n",
    "#     EC.presence_of_element_located((By.ID, \"btnstop\")))\n",
    "\n",
    "actions = ActionChains(driver)\n",
    "# actions=ActionChains(driver)\n",
    "\n",
    "actions.click(myLinkManual)\n",
    "# actions.click(bttnstp)\n",
    "# # for i in range(2):\n",
    "actions.perform()\n"
   ]
  },
  {
   "cell_type": "code",
   "execution_count": null,
   "id": "1a4b088f-868c-429e-b091-b3ddda5f1cdf",
   "metadata": {},
   "outputs": [],
   "source": []
  }
 ],
 "metadata": {
  "kernelspec": {
   "display_name": "Python 3",
   "language": "python",
   "name": "python3"
  },
  "language_info": {
   "codemirror_mode": {
    "name": "ipython",
    "version": 3
   },
   "file_extension": ".py",
   "mimetype": "text/x-python",
   "name": "python",
   "nbconvert_exporter": "python",
   "pygments_lexer": "ipython3",
   "version": "3.9.1"
  }
 },
 "nbformat": 4,
 "nbformat_minor": 5
}
