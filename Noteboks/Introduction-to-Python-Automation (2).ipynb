{
 "cells": [
  {
   "cell_type": "code",
   "execution_count": 21,
   "id": "653b116b-ba34-4953-86c9-707c2511e3ee",
   "metadata": {},
   "outputs": [],
   "source": [
    "from selenium import webdriver\n",
    "from selenium.webdriver.common.keys import Keys\n",
    "from selenium.webdriver.common.by import By\n",
    "from selenium.webdriver.support.ui import WebDriverWait\n",
    "from selenium.webdriver.support import expected_conditions as EC\n",
    "import time"
   ]
  },
  {
   "cell_type": "code",
   "execution_count": 13,
   "id": "b6cc2629-7980-4c94-8bc0-7bd390bc5468",
   "metadata": {},
   "outputs": [
    {
     "name": "stderr",
     "output_type": "stream",
     "text": [
      "<ipython-input-13-1347c1a51da1>:2: DeprecationWarning: executable_path has been deprecated, please pass in a Service object\n",
      "  driver=webdriver.Chrome(PATH)\n",
      "<ipython-input-13-1347c1a51da1>:4: DeprecationWarning: find_element_by_* commands are deprecated. Please use find_element() instead\n",
      "  search= driver.find_element_by_name(\"search_query\")\n",
      "IOPub data rate exceeded.\n",
      "The Jupyter server will temporarily stop sending output\n",
      "to the client in order to avoid crashing it.\n",
      "To change this limit, set the config variable\n",
      "`--ServerApp.iopub_data_rate_limit`.\n",
      "\n",
      "Current values:\n",
      "ServerApp.iopub_data_rate_limit=1000000.0 (bytes/sec)\n",
      "ServerApp.rate_limit_window=3.0 (secs)\n",
      "\n"
     ]
    }
   ],
   "source": [
    "# PATH=\"C:\\Program Files (x86)\\chromedriver.exe\"\n",
    "# driver=webdriver.Chrome(PATH)\n",
    "# driver.get(\"https://youtube.com\")\n",
    "# search= driver.find_element_by_name(\"search_query\")\n",
    "# search.send_keys(\"test\")\n",
    "# search.send_keys(Keys.RETURN)\n",
    "# print(driver.page_source)\n",
    "# time.sleep(5)\n",
    "# driver.close()"
   ]
  },
  {
   "cell_type": "code",
   "execution_count": 58,
   "id": "858e771d-5b54-4ff7-ac85-0d8a8c323c51",
   "metadata": {},
   "outputs": [
    {
     "name": "stderr",
     "output_type": "stream",
     "text": [
      "<ipython-input-58-307bd2111348>:2: DeprecationWarning: executable_path has been deprecated, please pass in a Service object\n",
      "  driver=webdriver.Chrome(PATH)\n"
     ]
    },
    {
     "name": "stdout",
     "output_type": "stream",
     "text": [
      "0\n",
      "votes\n",
      "0\n",
      "answers\n",
      "7\n",
      "views\n",
      "How can I fix this Discord.py Bot?\n",
      "I have the error: else ^ SyntaxError: invalid syntax The code: @bot.command() @commands.has_role('VIP ACCESS') async def gen(ctx): await ctx.send(\"worked!\") else @...\n",
      "python\n",
      "discord\n",
      "discord.py\n",
      "maksim\n",
      "1\n",
      "asked 4 mins ago\n",
      "How can I fix this Discord.py Bot?\n",
      "0\n",
      "votes\n",
      "0\n",
      "answers\n",
      "7\n",
      "views\n",
      "hey\n"
     ]
    }
   ],
   "source": [
    "PATH=\"C:\\Program Files (x86)\\chromedriver.exe\"\n",
    "driver=webdriver.Chrome(PATH)\n",
    "driver.get(\"https://stackoverflow.com/\")\n",
    "try:\n",
    "    search= WebDriverWait(driver, 10).until(EC.presence_of_element_located((By.NAME, \"q\")))\n",
    "    search.send_keys(\"python\")\n",
    "    search.send_keys(Keys.RETURN)\n",
    "    questions = driver.find_element(By.ID, 'questions')\n",
    "#     print(questions.text)\n",
    "    ques=questions.find_elements_by_tag_name(\"div\")\n",
    "    for que in ques:\n",
    "        print(que.text)\n",
    "        header=que.find_element_by_class_name(\"s-post-summary--content-title\")\n",
    "        print(header.text)\n",
    "except:\n",
    "#     driver.quit()\n",
    "    print(\"hey\")"
   ]
  },
  {
   "cell_type": "code",
   "execution_count": 14,
   "id": "2ae5a59d-ecff-4057-8a73-e0d9c27eeea3",
   "metadata": {},
   "outputs": [
    {
     "data": {
      "text/plain": [
       "'YouTube'"
      ]
     },
     "execution_count": 14,
     "metadata": {},
     "output_type": "execute_result"
    }
   ],
   "source": [
    "# driver.title"
   ]
  },
  {
   "cell_type": "code",
   "execution_count": 15,
   "id": "347fb22e-1bc3-442b-91bf-621704ed4b8c",
   "metadata": {},
   "outputs": [],
   "source": [
    "# driver.close()"
   ]
  },
  {
   "cell_type": "markdown",
   "id": "dd645251-494f-45a7-a3a6-fda071759b8d",
   "metadata": {},
   "source": [
    "#### So, Inorder to access the data/elements we require tags,name,id,class but mostly we need id, name and class.\n",
    "#### So the hierarchy of selecting among these three will be\n",
    "#### 1. Id(as its unique in HTML pages)\n",
    "#### 2. Name(as it is mostly unique in many web pages)\n",
    "#### 3. Class(as it is used in worst case scenario"
   ]
  },
  {
   "cell_type": "code",
   "execution_count": null,
   "id": "b4da24d6-c16b-44a0-aca1-8bd204f5eba7",
   "metadata": {},
   "outputs": [],
   "source": []
  }
 ],
 "metadata": {
  "kernelspec": {
   "display_name": "Python 3",
   "language": "python",
   "name": "python3"
  },
  "language_info": {
   "codemirror_mode": {
    "name": "ipython",
    "version": 3
   },
   "file_extension": ".py",
   "mimetype": "text/x-python",
   "name": "python",
   "nbconvert_exporter": "python",
   "pygments_lexer": "ipython3",
   "version": "3.9.1"
  }
 },
 "nbformat": 4,
 "nbformat_minor": 5
}
